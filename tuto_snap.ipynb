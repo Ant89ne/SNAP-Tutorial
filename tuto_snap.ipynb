{
 "cells": [
  {
   "attachments": {},
   "cell_type": "markdown",
   "metadata": {},
   "source": [
    "# Tutorial on the use of Graph Processing Tool using Python"
   ]
  },
  {
   "attachments": {},
   "cell_type": "markdown",
   "metadata": {},
   "source": [
    "## Introduction \n",
    "\n",
    "Following the tutorial in the README file, the objective here is to end up the processing of the last section. Thus we're going to apply a previously saved graph to a serie of images while modifying its parameters depending on the image processed - here no more than the input and output filename."
   ]
  },
  {
   "cell_type": "markdown",
   "metadata": {},
   "source": [
    "## Let's code !"
   ]
  },
  {
   "attachments": {},
   "cell_type": "markdown",
   "metadata": {},
   "source": [
    "### Library loading\n",
    "\n",
    "No more than a single library is needed here ! (Alright let's load two of them for visual comfort)"
   ]
  },
  {
   "cell_type": "code",
   "execution_count": null,
   "metadata": {},
   "outputs": [],
   "source": [
    "import os\n",
    "import tqdm"
   ]
  },
  {
   "attachments": {},
   "cell_type": "markdown",
   "metadata": {},
   "source": [
    "### User parameters"
   ]
  },
  {
   "cell_type": "code",
   "execution_count": null,
   "metadata": {},
   "outputs": [],
   "source": [
    "# Path to the cropped images folder\n",
    "cropDataFolder = \"TODO\" #TODO\n",
    "# Path to the graph to be applied to the images\n",
    "orthoGraph = \"TODO\" #TODO\n",
    "# Path to the folder where to save the orthorectified images\n",
    "outputFolder = \"TODO\" #TODO\n",
    "# Path to the gpt executable\n",
    "snapExecutablePath = \"TODO\" #TODO"
   ]
  },
  {
   "attachments": {},
   "cell_type": "markdown",
   "metadata": {},
   "source": [
    "### Main routine\n",
    "\n",
    "We first start to read the images to be processed and check that the output folder is existing."
   ]
  },
  {
   "cell_type": "code",
   "execution_count": null,
   "metadata": {},
   "outputs": [],
   "source": [
    "# Read images\n",
    "listFiles = [f for f in os.listdir(cropDataFolder) if os.path.isfile(os.path.join(cropDataFolder,f)) and f.endswith('.tif')]\n",
    "\n",
    "# Create the output folder if not created\n",
    "if not os.path.isdir(outputFolder):\n",
    "    os.mkdir(outputFolder)"
   ]
  },
  {
   "attachments": {},
   "cell_type": "markdown",
   "metadata": {},
   "source": [
    "Then the major routine beggins. It consists in three steps : \n",
    "\n",
    "1. Setting the parameters\n",
    "\n",
    "We chose here to organize the parameters within a dictionnary with the parameter name as the key and the parameter value as the value (string type).\n",
    "\n",
    "2. Formatting the parameters as command line\n",
    "\n",
    "The idea in the third step is to run a shell command line calling the gpt executable. This command line accept optionnal flags including the one we are interested in : `-P`\n",
    "\n",
    "The syntax is as follows and all tied up : `-PparamName=paramValue`\n",
    "\n",
    "The executable will then replace the `${paramName}` within the .xml graph file by `paramValue`.\n",
    "\n",
    "3. Executing gpt to process the images\n",
    "\n",
    "Finally, the idea is to run the executable with `os.system()` following the syntax : `gpt graphFile options`"
   ]
  },
  {
   "cell_type": "code",
   "execution_count": null,
   "metadata": {},
   "outputs": [],
   "source": [
    "# Initialize the dictionnary\n",
    "params = {}\n",
    "\n",
    "# Apply the graph on each image\n",
    "for f in tqdm.tqdm(listFiles) :\n",
    "    # Set the parameters for the current file\n",
    "    #TODO\n",
    "\n",
    "    # Construct the optionnal parameter command line \n",
    "    #TODO\n",
    "\n",
    "    # Run the executable\n",
    "    #TODO\n",
    "\n",
    "    pass"
   ]
  },
  {
   "attachments": {},
   "cell_type": "markdown",
   "metadata": {},
   "source": [
    "## Enjoy coding !"
   ]
  }
 ],
 "metadata": {
  "kernelspec": {
   "display_name": "Python 3",
   "language": "python",
   "name": "python3"
  },
  "language_info": {
   "name": "python",
   "version": "3.10.6"
  },
  "orig_nbformat": 4
 },
 "nbformat": 4,
 "nbformat_minor": 2
}
